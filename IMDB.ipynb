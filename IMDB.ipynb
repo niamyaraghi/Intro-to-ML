{
 "cells": [
  {
   "cell_type": "code",
   "execution_count": 1,
   "id": "6248dd3d-d5a1-4409-8ee4-e6d30c456abb",
   "metadata": {},
   "outputs": [],
   "source": [
    "import os    \n",
    "os.environ['KMP_DUPLICATE_LIB_OK'] = 'True'"
   ]
  },
  {
   "cell_type": "code",
   "execution_count": 2,
   "id": "669e21ef-effe-4a11-97c4-6e17c3693d0f",
   "metadata": {},
   "outputs": [],
   "source": [
    "from keras.datasets import imdb\n",
    "(train_data, train_labels), (test_data, test_labels) = imdb.load_data(num_words=10000)\n"
   ]
  },
  {
   "cell_type": "code",
   "execution_count": 3,
   "id": "481e0930-e472-475d-b681-a0fdf6c06624",
   "metadata": {},
   "outputs": [
    {
     "data": {
      "text/plain": [
       "1"
      ]
     },
     "execution_count": 3,
     "metadata": {},
     "output_type": "execute_result"
    }
   ],
   "source": [
    "train_data[2]\n",
    "train_labels[0]"
   ]
  },
  {
   "cell_type": "code",
   "execution_count": 4,
   "id": "d12c2276-75e1-46b1-8a7d-26a7e1132f27",
   "metadata": {},
   "outputs": [],
   "source": [
    "word_index = imdb.get_word_index()\n",
    "reverse_word_index = dict(\n",
    "    [(value, key) for (key, value) in word_index.items()])\n",
    "decoded_review = ' '.join(\n",
    "    [reverse_word_index.get(i-3,'?') for i in train_data[2]])"
   ]
  },
  {
   "cell_type": "code",
   "execution_count": 5,
   "id": "d66d290b-e60a-4aa9-b6e5-ae59c314e6d5",
   "metadata": {},
   "outputs": [
    {
     "data": {
      "text/plain": [
       "\"? this has to be one of the worst films of the 1990s when my friends i were watching this film being the target audience it was aimed at we just sat watched the first half an hour with our jaws touching the floor at how bad it really was the rest of the time everyone else in the theatre just started talking to each other leaving or generally crying into their popcorn that they actually paid money they had ? working to watch this feeble excuse for a film it must have looked like a great idea on paper but on film it looks like no one in the film has a clue what is going on crap acting crap costumes i can't get across how ? this is to watch save yourself an hour a bit of your life\""
      ]
     },
     "execution_count": 5,
     "metadata": {},
     "output_type": "execute_result"
    }
   ],
   "source": [
    "decoded_review"
   ]
  },
  {
   "cell_type": "code",
   "execution_count": 6,
   "id": "f141826d-04e1-449b-9baa-6a8b0efff29d",
   "metadata": {},
   "outputs": [],
   "source": [
    "import numpy as np"
   ]
  },
  {
   "cell_type": "code",
   "execution_count": 7,
   "id": "152a3f29-77de-4e6a-8bc1-1ffc3b5a5400",
   "metadata": {},
   "outputs": [],
   "source": [
    "def vectorize_sequences(sequences, dimension=10000):\n",
    "    results = np.zeros((len(sequences), dimension))\n",
    "    for i, sequence in enumerate(sequences):\n",
    "        results[i,sequence]=1.\n",
    "    return results\n",
    "x_train=vectorize_sequences(train_data)\n",
    "x_test=vectorize_sequences(test_data)\n",
    "    "
   ]
  },
  {
   "cell_type": "code",
   "execution_count": 8,
   "id": "ea70f2ac-aac3-40e9-88fa-95362644f2b9",
   "metadata": {},
   "outputs": [
    {
     "data": {
      "text/plain": [
       "array([0., 1., 1., ..., 0., 0., 0.])"
      ]
     },
     "execution_count": 8,
     "metadata": {},
     "output_type": "execute_result"
    }
   ],
   "source": [
    "x_train[1]"
   ]
  },
  {
   "cell_type": "code",
   "execution_count": 9,
   "id": "054dba68-828f-466d-9b66-979316af13d5",
   "metadata": {},
   "outputs": [],
   "source": [
    "y_train=np.asarray(train_labels).astype('float32')\n",
    "y_test=np.asarray(test_labels).astype('float32')"
   ]
  },
  {
   "cell_type": "code",
   "execution_count": 10,
   "id": "e792b851-c59c-4103-b43d-178a81552097",
   "metadata": {},
   "outputs": [
    {
     "data": {
      "text/plain": [
       "0.0"
      ]
     },
     "execution_count": 10,
     "metadata": {},
     "output_type": "execute_result"
    }
   ],
   "source": [
    "y_train[1]"
   ]
  },
  {
   "cell_type": "code",
   "execution_count": 11,
   "id": "17bad69b-e25f-4f6e-8817-bcd35999bd80",
   "metadata": {},
   "outputs": [
    {
     "data": {
      "text/plain": [
       "0"
      ]
     },
     "execution_count": 11,
     "metadata": {},
     "output_type": "execute_result"
    }
   ],
   "source": [
    "train_labels[1]"
   ]
  },
  {
   "cell_type": "code",
   "execution_count": 12,
   "id": "80157b3c-f389-4287-9033-19e4b58eb70f",
   "metadata": {},
   "outputs": [],
   "source": [
    "from keras import models\n",
    "from keras import layers\n",
    "\n",
    "model = models.Sequential()\n",
    "model.add(layers.Dense(16, activation='relu', input_shape=(10000,)))\n",
    "model.add(layers.Dense(16, activation='relu'))\n",
    "model.add(layers.Dense(1,activation='sigmoid'))\n",
    "model.compile(optimizer='rmsprop',\n",
    "              loss='binary_crossentropy',\n",
    "              metrics=['accuracy'])"
   ]
  },
  {
   "cell_type": "code",
   "execution_count": 32,
   "id": "2e51a444-26dd-4fbf-9b88-dad4eaa667dd",
   "metadata": {},
   "outputs": [],
   "source": [
    "x_val=x_train[:10000]\n",
    "partial_x_train=x_train[10000:]\n",
    "y_val=y_train[:10000]\n",
    "partial_y_train=y_train[10000:]\n"
   ]
  },
  {
   "cell_type": "code",
   "execution_count": 33,
   "id": "2946f167-a5e7-4eb0-a019-389b17cdbd14",
   "metadata": {},
   "outputs": [
    {
     "name": "stdout",
     "output_type": "stream",
     "text": [
      "Epoch 1/20\n",
      "30/30 [==============================] - 5s 155ms/step - loss: 0.0030 - accuracy: 0.9999 - val_loss: 0.7240 - val_accuracy: 0.8655\n",
      "Epoch 2/20\n",
      "30/30 [==============================] - 2s 53ms/step - loss: 0.0065 - accuracy: 0.9980 - val_loss: 0.7377 - val_accuracy: 0.8659\n",
      "Epoch 3/20\n",
      "30/30 [==============================] - 1s 38ms/step - loss: 0.0017 - accuracy: 0.9999 - val_loss: 0.7605 - val_accuracy: 0.8659\n",
      "Epoch 4/20\n",
      "30/30 [==============================] - 1s 26ms/step - loss: 0.0038 - accuracy: 0.9989 - val_loss: 0.8042 - val_accuracy: 0.8641\n",
      "Epoch 5/20\n",
      "30/30 [==============================] - 1s 19ms/step - loss: 0.0011 - accuracy: 1.0000 - val_loss: 0.8181 - val_accuracy: 0.8632\n",
      "Epoch 6/20\n",
      "30/30 [==============================] - 1s 19ms/step - loss: 9.2952e-04 - accuracy: 1.0000 - val_loss: 0.9408 - val_accuracy: 0.8570\n",
      "Epoch 7/20\n",
      "30/30 [==============================] - 1s 19ms/step - loss: 0.0015 - accuracy: 0.9997 - val_loss: 0.8795 - val_accuracy: 0.8640\n",
      "Epoch 8/20\n",
      "30/30 [==============================] - 1s 20ms/step - loss: 0.0012 - accuracy: 0.9998 - val_loss: 0.9328 - val_accuracy: 0.8608\n",
      "Epoch 9/20\n",
      "30/30 [==============================] - 1s 26ms/step - loss: 4.0537e-04 - accuracy: 1.0000 - val_loss: 0.9465 - val_accuracy: 0.8610\n",
      "Epoch 10/20\n",
      "30/30 [==============================] - 1s 23ms/step - loss: 3.1284e-04 - accuracy: 1.0000 - val_loss: 0.9841 - val_accuracy: 0.8608\n",
      "Epoch 11/20\n",
      "30/30 [==============================] - 1s 19ms/step - loss: 0.0024 - accuracy: 0.9994 - val_loss: 1.0127 - val_accuracy: 0.8618\n",
      "Epoch 12/20\n",
      "30/30 [==============================] - 1s 19ms/step - loss: 1.8492e-04 - accuracy: 1.0000 - val_loss: 1.0289 - val_accuracy: 0.8604\n",
      "Epoch 13/20\n",
      "30/30 [==============================] - 1s 18ms/step - loss: 1.5767e-04 - accuracy: 1.0000 - val_loss: 1.0570 - val_accuracy: 0.8598\n",
      "Epoch 14/20\n",
      "30/30 [==============================] - 0s 16ms/step - loss: 8.0226e-04 - accuracy: 0.9998 - val_loss: 1.0898 - val_accuracy: 0.8600\n",
      "Epoch 15/20\n",
      "30/30 [==============================] - 1s 17ms/step - loss: 1.0458e-04 - accuracy: 1.0000 - val_loss: 1.1077 - val_accuracy: 0.8600\n",
      "Epoch 16/20\n",
      "30/30 [==============================] - 0s 14ms/step - loss: 8.5840e-05 - accuracy: 1.0000 - val_loss: 1.1368 - val_accuracy: 0.8593\n",
      "Epoch 17/20\n",
      "30/30 [==============================] - 0s 14ms/step - loss: 0.0015 - accuracy: 0.9994 - val_loss: 1.2553 - val_accuracy: 0.8563\n",
      "Epoch 18/20\n",
      "30/30 [==============================] - 0s 14ms/step - loss: 9.1421e-05 - accuracy: 1.0000 - val_loss: 1.2025 - val_accuracy: 0.8581\n",
      "Epoch 19/20\n",
      "30/30 [==============================] - 0s 16ms/step - loss: 5.3932e-05 - accuracy: 1.0000 - val_loss: 1.2126 - val_accuracy: 0.8578\n",
      "Epoch 20/20\n",
      "30/30 [==============================] - 1s 21ms/step - loss: 3.9197e-05 - accuracy: 1.0000 - val_loss: 1.2426 - val_accuracy: 0.8585\n"
     ]
    }
   ],
   "source": [
    "history=model.fit(partial_x_train,\n",
    "                  partial_y_train,\n",
    "                  epochs=20,\n",
    "                  batch_size=512,\n",
    "                  validation_data=(x_val,y_val))"
   ]
  },
  {
   "cell_type": "code",
   "execution_count": 15,
   "id": "7f784ff3-9fed-4f2c-9e3e-29bb123a8eda",
   "metadata": {},
   "outputs": [
    {
     "data": {
      "text/plain": [
       "dict_keys(['loss', 'accuracy', 'val_loss', 'val_accuracy'])"
      ]
     },
     "execution_count": 15,
     "metadata": {},
     "output_type": "execute_result"
    }
   ],
   "source": [
    "history_dict=history.history\n",
    "history_dict.keys()"
   ]
  },
  {
   "cell_type": "code",
   "execution_count": null,
   "id": "bec2eb84-a9e0-4343-87a5-6f96a8442441",
   "metadata": {},
   "outputs": [],
   "source": []
  },
  {
   "cell_type": "code",
   "execution_count": 16,
   "id": "2c09fe99-5cb4-4487-bb06-39e8f332ed5a",
   "metadata": {},
   "outputs": [],
   "source": [
    "import pandas as pd\n",
    "import seaborn as sns\n",
    "import matplotlib.pyplot as plt\n"
   ]
  },
  {
   "cell_type": "code",
   "execution_count": 17,
   "id": "80b55c71-d6ff-41a6-b01e-d712da0581a0",
   "metadata": {},
   "outputs": [
    {
     "data": {
      "image/png": "[encoded data removed]",
      "text/plain": [
       "<Figure size 640x480 with 1 Axes>"
      ]
     },
     "metadata": {},
     "output_type": "display_data"
    }
   ],
   "source": [
    "\n",
    "import matplotlib.pyplot as plt\n",
    "\n",
    "loss_values=history_dict['loss']\n",
    "val_loss_values=history_dict['val_loss']\n",
    "accuracy_values=history_dict['accuracy']\n",
    "val_accuracy_values=history_dict['val_accuracy']\n",
    "\n",
    "epochs =range(1, len(history_dict['accuracy']) + 1)\n",
    "\n",
    "plt.plot(epochs, loss_values, 'bo', label='Training loss')\n",
    "plt.plot(epochs, val_loss_values, 'b', label='Validation loss')\n",
    "plt.title('Training and validating loss')\n",
    "plt.xlabel('Epochs')\n",
    "plt.ylabel('Loss')\n",
    "plt.legend()\n",
    "plt.show()"
   ]
  },
  {
   "cell_type": "code",
   "execution_count": 18,
   "id": "7ecf442f-fcd2-4b0a-9f9a-15f9fc05b291",
   "metadata": {},
   "outputs": [
    {
     "data": {
      "image/png": "[encoded data removed]",
      "text/plain": [
       "<Figure size 640x480 with 1 Axes>"
      ]
     },
     "metadata": {},
     "output_type": "display_data"
    }
   ],
   "source": [
    "plt.clf()\n",
    "acc_values=history_dict['accuracy']\n",
    "plt.plot(epochs, accuracy_values, 'bo',label='Training accuracy')\n",
    "plt.plot(epochs, val_accuracy_values, 'b', label='Validation accuracy')\n",
    "plt.title('Training and validating accuracy')\n",
    "plt.xlabel('Epochs')\n",
    "plt.ylabel('Accuracy')\n",
    "plt.legend()\n",
    "plt.show()"
   ]
  },
  {
   "cell_type": "code",
   "execution_count": 19,
   "id": "f027620a-2386-47cd-9120-eec782bfa37f",
   "metadata": {},
   "outputs": [],
   "source": [
    "\n",
    "\n",
    "model2 = models.Sequential()\n",
    "model2.add(layers.Dense(16, activation='relu', input_shape=(10000,)))\n",
    "model2.add(layers.Dense(16, activation='relu'))\n",
    "model2.add(layers.Dense(1,activation='sigmoid'))\n",
    "model2.compile(optimizer='rmsprop',\n",
    "              loss='binary_crossentropy',\n",
    "              metrics=['accuracy'])"
   ]
  },
  {
   "cell_type": "code",
   "execution_count": 20,
   "id": "9717f4cd-2afa-444e-94bf-306cc25e437f",
   "metadata": {},
   "outputs": [
    {
     "name": "stdout",
     "output_type": "stream",
     "text": [
      "Epoch 1/4\n",
      "30/30 [==============================] - 2s 46ms/step - loss: 0.5212 - accuracy: 0.7733 - val_loss: 0.3965 - val_accuracy: 0.8702\n",
      "Epoch 2/4\n",
      "30/30 [==============================] - 0s 12ms/step - loss: 0.3171 - accuracy: 0.9020 - val_loss: 0.3487 - val_accuracy: 0.8626\n",
      "Epoch 3/4\n",
      "30/30 [==============================] - 0s 13ms/step - loss: 0.2354 - accuracy: 0.9262 - val_loss: 0.2834 - val_accuracy: 0.8900\n",
      "Epoch 4/4\n",
      "30/30 [==============================] - 0s 11ms/step - loss: 0.1850 - accuracy: 0.9412 - val_loss: 0.2763 - val_accuracy: 0.8902\n"
     ]
    }
   ],
   "source": [
    "history2=model2.fit(partial_x_train,\n",
    "                  partial_y_train,\n",
    "                  epochs=4,\n",
    "                  batch_size=512,\n",
    "                  validation_data=(x_val,y_val))"
   ]
  },
  {
   "cell_type": "code",
   "execution_count": 21,
   "id": "65796773-beef-4125-95e0-742c15174e7d",
   "metadata": {},
   "outputs": [
    {
     "name": "stdout",
     "output_type": "stream",
     "text": [
      "782/782 [==============================] - 25s 32ms/step\n"
     ]
    },
    {
     "data": {
      "text/plain": [
       "array([[0.22952648],\n",
       "       [0.9932783 ],\n",
       "       [0.9002157 ],\n",
       "       ...,\n",
       "       [0.07270344],\n",
       "       [0.1496714 ],\n",
       "       [0.4247322 ]], dtype=float32)"
      ]
     },
     "execution_count": 21,
     "metadata": {},
     "output_type": "execute_result"
    }
   ],
   "source": [
    "model2.predict(x_test)"
   ]
  },
  {
   "cell_type": "code",
   "execution_count": 22,
   "id": "9ca63f7c-9b49-4851-91b2-2d77ed52900d",
   "metadata": {},
   "outputs": [
    {
     "name": "stdout",
     "output_type": "stream",
     "text": [
      "782/782 [==============================] - 23s 29ms/step\n",
      "Confusion Matrix:\n",
      "[[11194  1306]\n",
      " [ 1653 10847]]\n"
     ]
    }
   ],
   "source": [
    "import numpy as np\n",
    "from sklearn.metrics import confusion_matrix\n",
    "\n",
    "predictions = model2.predict(x_test)\n",
    "\n",
    "binary_predictions = (predictions > 0.5).astype('int')\n",
    "\n",
    "conf_matrix = confusion_matrix(y_test, binary_predictions)\n",
    "\n",
    "print(\"Confusion Matrix:\")\n",
    "print(conf_matrix)\n"
   ]
  },
  {
   "cell_type": "code",
   "execution_count": null,
   "id": "c843e286-adf7-4499-99b2-226c189997d2",
   "metadata": {},
   "outputs": [
    {
     "name": "stdout",
     "output_type": "stream",
     "text": [
      "550/782 [====================>.........] - ETA: 8s"
     ]
    }
   ],
   "source": [
    "\n",
    "\n",
    "\n",
    "\n",
    "import matplotlib.pyplot as plt\n",
    "import seaborn as sns\n",
    "from sklearn.metrics import confusion_matrix\n",
    "\n",
    "predictions = model2.predict(x_test)\n",
    "binary_predictions = (predictions > 0.5).astype('int')\n",
    "conf_matrix = confusion_matrix(y_test, binary_predictions)\n",
    "\n",
    "plt.figure(figsize=(8, 6))\n",
    "sns.heatmap(conf_matrix, annot=True, fmt='d', cmap='Blues', cbar=True, square=True)\n",
    "plt.xlabel('Predicted Label')\n",
    "plt.ylabel('True Label')\n",
    "plt.title('Confusion Matrix')\n",
    "plt.xticks([0.5, 1.5], ['Negative', 'Positive'])\n",
    "plt.yticks([0.5, 1.5], ['Negative', 'Positive'], rotation=0)\n",
    "plt.show()\n"
   ]
  },
  {
   "cell_type": "code",
   "execution_count": null,
   "id": "13d24ec0-68e6-4739-aa5f-9f7159ae12e9",
   "metadata": {},
   "outputs": [],
   "source": []
  }
 ],
 "metadata": {
  "kernelspec": {
   "display_name": "Python 3 (ipykernel)",
   "language": "python",
   "name": "python3"
  },
  "language_info": {
   "codemirror_mode": {
    "name": "ipython",
    "version": 3
   },
   "file_extension": ".py",
   "mimetype": "text/x-python",
   "name": "python",
   "nbconvert_exporter": "python",
   "pygments_lexer": "ipython3",
   "version": "3.9.18"
  }
 },
 "nbformat": 4,
 "nbformat_minor": 5
}
