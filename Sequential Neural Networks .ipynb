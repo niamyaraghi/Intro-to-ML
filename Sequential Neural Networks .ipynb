{
 "cells": [
  {
   "cell_type": "code",
   "execution_count": 1,
   "id": "a7386078",
   "metadata": {},
   "outputs": [],
   "source": [
    "import tensorflow as tf"
   ]
  },
  {
   "cell_type": "code",
   "execution_count": 2,
   "id": "19effb09",
   "metadata": {},
   "outputs": [
    {
     "name": "stdout",
     "output_type": "stream",
     "text": [
      "Requirement already satisfied: pandas in c:\\users\\nxy114\\anaconda3\\envs\\tensorflow\\lib\\site-packages (1.5.3)Note: you may need to restart the kernel to use updated packages.\n",
      "\n",
      "Requirement already satisfied: numpy>=1.20.3 in c:\\users\\nxy114\\anaconda3\\envs\\tensorflow\\lib\\site-packages (from pandas) (1.22.3)\n",
      "Requirement already satisfied: python-dateutil>=2.8.1 in c:\\users\\nxy114\\anaconda3\\envs\\tensorflow\\lib\\site-packages (from pandas) (2.8.2)\n",
      "Requirement already satisfied: pytz>=2020.1 in c:\\users\\nxy114\\anaconda3\\envs\\tensorflow\\lib\\site-packages (from pandas) (2023.2)\n",
      "Requirement already satisfied: six>=1.5 in c:\\users\\nxy114\\anaconda3\\envs\\tensorflow\\lib\\site-packages (from python-dateutil>=2.8.1->pandas) (1.16.0)\n"
     ]
    }
   ],
   "source": [
    "pip install pandas\n"
   ]
  },
  {
   "cell_type": "code",
   "execution_count": 3,
   "id": "b8602e78",
   "metadata": {},
   "outputs": [
    {
     "name": "stdout",
     "output_type": "stream",
     "text": [
      "Requirement already satisfied: numpy in c:\\users\\nxy114\\anaconda3\\envs\\tensorflow\\lib\\site-packages (1.22.3)\n",
      "Note: you may need to restart the kernel to use updated packages.\n"
     ]
    }
   ],
   "source": [
    "pip install numpy\n"
   ]
  },
  {
   "cell_type": "code",
   "execution_count": 4,
   "id": "a368df51",
   "metadata": {},
   "outputs": [
    {
     "name": "stdout",
     "output_type": "stream",
     "text": [
      "Requirement already satisfied: matplotlib in c:\\users\\nxy114\\anaconda3\\envs\\tensorflow\\lib\\site-packages (3.7.1)\n",
      "Requirement already satisfied: fonttools>=4.22.0 in c:\\users\\nxy114\\anaconda3\\envs\\tensorflow\\lib\\site-packages (from matplotlib) (4.39.3)\n",
      "Requirement already satisfied: python-dateutil>=2.7 in c:\\users\\nxy114\\anaconda3\\envs\\tensorflow\\lib\\site-packages (from matplotlib) (2.8.2)\n",
      "Requirement already satisfied: cycler>=0.10 in c:\\users\\nxy114\\anaconda3\\envs\\tensorflow\\lib\\site-packages (from matplotlib) (0.11.0)\n",
      "Requirement already satisfied: contourpy>=1.0.1 in c:\\users\\nxy114\\anaconda3\\envs\\tensorflow\\lib\\site-packages (from matplotlib) (1.0.7)\n",
      "Requirement already satisfied: kiwisolver>=1.0.1 in c:\\users\\nxy114\\anaconda3\\envs\\tensorflow\\lib\\site-packages (from matplotlib) (1.4.4)\n",
      "Requirement already satisfied: pyparsing>=2.3.1 in c:\\users\\nxy114\\anaconda3\\envs\\tensorflow\\lib\\site-packages (from matplotlib) (3.0.9)\n",
      "Requirement already satisfied: importlib-resources>=3.2.0 in c:\\users\\nxy114\\anaconda3\\envs\\tensorflow\\lib\\site-packages (from matplotlib) (5.12.0)\n",
      "Requirement already satisfied: packaging>=20.0 in c:\\users\\nxy114\\anaconda3\\envs\\tensorflow\\lib\\site-packages (from matplotlib) (23.0)\n",
      "Requirement already satisfied: numpy>=1.20 in c:\\users\\nxy114\\anaconda3\\envs\\tensorflow\\lib\\site-packages (from matplotlib) (1.22.3)\n",
      "Requirement already satisfied: pillow>=6.2.0 in c:\\users\\nxy114\\anaconda3\\envs\\tensorflow\\lib\\site-packages (from matplotlib) (9.4.0)\n",
      "Requirement already satisfied: zipp>=3.1.0 in c:\\users\\nxy114\\anaconda3\\envs\\tensorflow\\lib\\site-packages (from importlib-resources>=3.2.0->matplotlib) (3.11.0)\n",
      "Requirement already satisfied: six>=1.5 in c:\\users\\nxy114\\anaconda3\\envs\\tensorflow\\lib\\site-packages (from python-dateutil>=2.7->matplotlib) (1.16.0)\n",
      "Note: you may need to restart the kernel to use updated packages.\n"
     ]
    }
   ],
   "source": [
    "pip install matplotlib\n"
   ]
  },
  {
   "cell_type": "code",
   "execution_count": 5,
   "id": "9d874f39",
   "metadata": {},
   "outputs": [
    {
     "name": "stdout",
     "output_type": "stream",
     "text": [
      "Requirement already satisfied: seaborn in c:\\users\\nxy114\\anaconda3\\envs\\tensorflow\\lib\\site-packages (0.12.2)\n",
      "Requirement already satisfied: matplotlib!=3.6.1,>=3.1 in c:\\users\\nxy114\\anaconda3\\envs\\tensorflow\\lib\\site-packages (from seaborn) (3.7.1)\n",
      "Requirement already satisfied: pandas>=0.25 in c:\\users\\nxy114\\anaconda3\\envs\\tensorflow\\lib\\site-packages (from seaborn) (1.5.3)\n",
      "Requirement already satisfied: numpy!=1.24.0,>=1.17 in c:\\users\\nxy114\\anaconda3\\envs\\tensorflow\\lib\\site-packages (from seaborn) (1.22.3)\n",
      "Requirement already satisfied: cycler>=0.10 in c:\\users\\nxy114\\anaconda3\\envs\\tensorflow\\lib\\site-packages (from matplotlib!=3.6.1,>=3.1->seaborn) (0.11.0)\n",
      "Requirement already satisfied: pyparsing>=2.3.1 in c:\\users\\nxy114\\anaconda3\\envs\\tensorflow\\lib\\site-packages (from matplotlib!=3.6.1,>=3.1->seaborn) (3.0.9)\n",
      "Requirement already satisfied: packaging>=20.0 in c:\\users\\nxy114\\anaconda3\\envs\\tensorflow\\lib\\site-packages (from matplotlib!=3.6.1,>=3.1->seaborn) (23.0)\n",
      "Requirement already satisfied: contourpy>=1.0.1 in c:\\users\\nxy114\\anaconda3\\envs\\tensorflow\\lib\\site-packages (from matplotlib!=3.6.1,>=3.1->seaborn) (1.0.7)\n",
      "Requirement already satisfied: fonttools>=4.22.0 in c:\\users\\nxy114\\anaconda3\\envs\\tensorflow\\lib\\site-packages (from matplotlib!=3.6.1,>=3.1->seaborn) (4.39.3)\n",
      "Requirement already satisfied: python-dateutil>=2.7 in c:\\users\\nxy114\\anaconda3\\envs\\tensorflow\\lib\\site-packages (from matplotlib!=3.6.1,>=3.1->seaborn) (2.8.2)\n",
      "Requirement already satisfied: importlib-resources>=3.2.0 in c:\\users\\nxy114\\anaconda3\\envs\\tensorflow\\lib\\site-packages (from matplotlib!=3.6.1,>=3.1->seaborn) (5.12.0)\n",
      "Requirement already satisfied: pillow>=6.2.0 in c:\\users\\nxy114\\anaconda3\\envs\\tensorflow\\lib\\site-packages (from matplotlib!=3.6.1,>=3.1->seaborn) (9.4.0)\n",
      "Requirement already satisfied: kiwisolver>=1.0.1 in c:\\users\\nxy114\\anaconda3\\envs\\tensorflow\\lib\\site-packages (from matplotlib!=3.6.1,>=3.1->seaborn) (1.4.4)\n",
      "Requirement already satisfied: pytz>=2020.1 in c:\\users\\nxy114\\anaconda3\\envs\\tensorflow\\lib\\site-packages (from pandas>=0.25->seaborn) (2023.2)\n",
      "Requirement already satisfied: zipp>=3.1.0 in c:\\users\\nxy114\\anaconda3\\envs\\tensorflow\\lib\\site-packages (from importlib-resources>=3.2.0->matplotlib!=3.6.1,>=3.1->seaborn) (3.11.0)\n",
      "Requirement already satisfied: six>=1.5 in c:\\users\\nxy114\\anaconda3\\envs\\tensorflow\\lib\\site-packages (from python-dateutil>=2.7->matplotlib!=3.6.1,>=3.1->seaborn) (1.16.0)\n",
      "Note: you may need to restart the kernel to use updated packages.\n"
     ]
    }
   ],
   "source": [
    "pip install seaborn\n"
   ]
  },
  {
   "cell_type": "code",
   "execution_count": 6,
   "id": "fd3fe923",
   "metadata": {},
   "outputs": [
    {
     "name": "stdout",
     "output_type": "stream",
     "text": [
      "Requirement already satisfied: scikit-learn in c:\\users\\nxy114\\anaconda3\\envs\\tensorflow\\lib\\site-packages (1.2.2)\n",
      "Requirement already satisfied: joblib>=1.1.1 in c:\\users\\nxy114\\anaconda3\\envs\\tensorflow\\lib\\site-packages (from scikit-learn) (1.2.0)\n",
      "Requirement already satisfied: scipy>=1.3.2 in c:\\users\\nxy114\\anaconda3\\envs\\tensorflow\\lib\\site-packages (from scikit-learn) (1.8.1)\n",
      "Requirement already satisfied: numpy>=1.17.3 in c:\\users\\nxy114\\anaconda3\\envs\\tensorflow\\lib\\site-packages (from scikit-learn) (1.22.3)\n",
      "Requirement already satisfied: threadpoolctl>=2.0.0 in c:\\users\\nxy114\\anaconda3\\envs\\tensorflow\\lib\\site-packages (from scikit-learn) (3.1.0)\n",
      "Note: you may need to restart the kernel to use updated packages.\n"
     ]
    }
   ],
   "source": [
    "pip install -U scikit-learn\n"
   ]
  },
  {
   "cell_type": "code",
   "execution_count": 7,
   "id": "05823eb9",
   "metadata": {},
   "outputs": [
    {
     "name": "stdout",
     "output_type": "stream",
     "text": [
      "Collecting package metadata (current_repodata.json): ...working... done\n",
      "Solving environment: ...working... done\n",
      "\n",
      "# All requested packages already installed.\n",
      "\n",
      "Retrieving notices: ...working... done\n",
      "\n",
      "Note: you may need to restart the kernel to use updated packages.\n"
     ]
    },
    {
     "name": "stderr",
     "output_type": "stream",
     "text": [
      "\n",
      "\n",
      "==> WARNING: A newer version of conda exists. <==\n",
      "  current version: 22.9.0\n",
      "  latest version: 23.1.0\n",
      "\n",
      "Please update conda by running\n",
      "\n",
      "    $ conda update -n base -c defaults conda\n",
      "\n",
      "\n"
     ]
    }
   ],
   "source": [
    "conda install -c conda-forge nomkl"
   ]
  },
  {
   "cell_type": "code",
   "execution_count": 58,
   "id": "8f44c7f5",
   "metadata": {},
   "outputs": [],
   "source": [
    "import tensorflow as tf\n",
    "from tensorflow import keras\n",
    "import pandas as pd\n",
    "import numpy as np\n",
    "import matplotlib.pyplot as plt"
   ]
  },
  {
   "cell_type": "code",
   "execution_count": 59,
   "id": "3f611b66",
   "metadata": {},
   "outputs": [],
   "source": [
    "fashion=keras.datasets.fashion_mnist"
   ]
  },
  {
   "cell_type": "code",
   "execution_count": 60,
   "id": "6e92ff92",
   "metadata": {},
   "outputs": [],
   "source": [
    "(X_train,y_train),(X_test,y_test) = fashion.load_data()"
   ]
  },
  {
   "cell_type": "code",
   "execution_count": 61,
   "id": "494862b0",
   "metadata": {},
   "outputs": [
    {
     "data": {
      "text/plain": [
       "(60000, 28, 28)"
      ]
     },
     "execution_count": 61,
     "metadata": {},
     "output_type": "execute_result"
    }
   ],
   "source": [
    "X_train.shape"
   ]
  },
  {
   "cell_type": "code",
   "execution_count": 62,
   "id": "5d9de92d",
   "metadata": {},
   "outputs": [
    {
     "data": {
      "text/plain": [
       "(60000,)"
      ]
     },
     "execution_count": 62,
     "metadata": {},
     "output_type": "execute_result"
    }
   ],
   "source": [
    "y_train.shape"
   ]
  },
  {
   "cell_type": "code",
   "execution_count": 63,
   "id": "5978fcb7",
   "metadata": {},
   "outputs": [
    {
     "data": {
      "text/plain": [
       "(10000, 28, 28)"
      ]
     },
     "execution_count": 63,
     "metadata": {},
     "output_type": "execute_result"
    }
   ],
   "source": [
    "X_test.shape"
   ]
  },
  {
   "cell_type": "code",
   "execution_count": 64,
   "id": "3710182b",
   "metadata": {},
   "outputs": [],
   "source": [
    "# optimize the model with much higher accuracy, \n",
    "#as they are currently ranging from 0 to 255 corresponding to rgb values\n",
    "X_train=X_train.astype('float32')/255\n",
    "X_test=X_test.astype('float')/255"
   ]
  },
  {
   "cell_type": "code",
   "execution_count": 65,
   "id": "273041c7",
   "metadata": {},
   "outputs": [
    {
     "data": {
      "text/plain": [
       "array([9, 0, 0, ..., 3, 0, 5], dtype=uint8)"
      ]
     },
     "execution_count": 65,
     "metadata": {},
     "output_type": "execute_result"
    }
   ],
   "source": [
    "y_train"
   ]
  },
  {
   "cell_type": "code",
   "execution_count": 66,
   "id": "251e83b9",
   "metadata": {},
   "outputs": [
    {
     "data": {
      "text/plain": [
       "['T-shirt/top',\n",
       " 'Trouser',\n",
       " 'pullover',\n",
       " 'dress',\n",
       " 'coat',\n",
       " 'sandal',\n",
       " 'shirt',\n",
       " 'sneaker',\n",
       " 'bag',\n",
       " 'ankle boot']"
      ]
     },
     "execution_count": 66,
     "metadata": {},
     "output_type": "execute_result"
    }
   ],
   "source": [
    "class_name = ['T-shirt/top',\n",
    "              'Trouser',\n",
    "              'pullover',\n",
    "              'dress',\n",
    "             'coat',\n",
    "             'sandal',\n",
    "             'shirt',\n",
    "             'sneaker',\n",
    "             'bag',\n",
    "             'ankle boot']\n",
    "class_name"
   ]
  },
  {
   "cell_type": "code",
   "execution_count": 67,
   "id": "488e1199",
   "metadata": {},
   "outputs": [
    {
     "data": {
      "text/plain": [
       "9"
      ]
     },
     "execution_count": 67,
     "metadata": {},
     "output_type": "execute_result"
    }
   ],
   "source": [
    "y_train[0]"
   ]
  },
  {
   "cell_type": "code",
   "execution_count": 68,
   "id": "e96ff5b0",
   "metadata": {},
   "outputs": [
    {
     "data": {
      "text/plain": [
       "'ankle boot'"
      ]
     },
     "execution_count": 68,
     "metadata": {},
     "output_type": "execute_result"
    }
   ],
   "source": [
    "class_name[y_train[0]]"
   ]
  },
  {
   "cell_type": "code",
   "execution_count": 69,
   "id": "16362242",
   "metadata": {},
   "outputs": [
    {
     "data": {
      "text/plain": [
       "<matplotlib.image.AxesImage at 0x1eb2c5b1e50>"
      ]
     },
     "execution_count": 69,
     "metadata": {},
     "output_type": "execute_result"
    },
    {
     "data": {
      "image/png": "[encoded data removed]",
      "text/plain": [
       "<Figure size 640x480 with 1 Axes>"
      ]
     },
     "metadata": {},
     "output_type": "display_data"
    }
   ],
   "source": [
    "plt.imshow(X_train[0],cmap='gray')"
   ]
  },
  {
   "cell_type": "code",
   "execution_count": 70,
   "id": "5e8cc09b",
   "metadata": {},
   "outputs": [
    {
     "name": "stdout",
     "output_type": "stream",
     "text": [
      "The label for this image isshirt\n"
     ]
    },
    {
     "data": {
      "image/png": "[encoded data removed]",
      "text/plain": [
       "<Figure size 640x480 with 1 Axes>"
      ]
     },
     "metadata": {},
     "output_type": "display_data"
    }
   ],
   "source": [
    "from random import randrange\n",
    "item=randrange(60000)\n",
    "\n",
    "plt.imshow(X_train[item],cmap='gray')\n",
    "print(\"The label for this image is\" + str(class_name[y_train[item]]))"
   ]
  },
  {
   "cell_type": "code",
   "execution_count": 71,
   "id": "88c3909f",
   "metadata": {},
   "outputs": [],
   "source": [
    "SNN=keras.models.Sequential()\n",
    "# in the first layer, we need 28*28 = 784 nodes\n",
    "SNN.add(keras.layers.Flatten(input_shape=[28,28]))\n",
    "SNN.add(keras.layers.Dense(300,activation=\"relu\")) # Rectified Linear Unit: The prontal after Dense should be number of nodes of inputs\n",
    "SNN.add(keras.layers.Dense(100,activation=\"relu\"))# Second layer added\n",
    "SNN.add(keras.layers.Dense(10,activation=\"softmax\"))# Output layer with 10 outputs that we need to classify"
   ]
  },
  {
   "cell_type": "code",
   "execution_count": 72,
   "id": "ffcc8a77",
   "metadata": {},
   "outputs": [
    {
     "name": "stdout",
     "output_type": "stream",
     "text": [
      "Model: \"sequential_5\"\n",
      "_________________________________________________________________\n",
      " Layer (type)                Output Shape              Param #   \n",
      "=================================================================\n",
      " flatten_4 (Flatten)         (None, 784)               0         \n",
      "                                                                 \n",
      " dense_6 (Dense)             (None, 300)               235500    \n",
      "                                                                 \n",
      " dense_7 (Dense)             (None, 100)               30100     \n",
      "                                                                 \n",
      " dense_8 (Dense)             (None, 10)                1010      \n",
      "                                                                 \n",
      "=================================================================\n",
      "Total params: 266,610\n",
      "Trainable params: 266,610\n",
      "Non-trainable params: 0\n",
      "_________________________________________________________________\n"
     ]
    }
   ],
   "source": [
    "SNN.summary()"
   ]
  },
  {
   "cell_type": "code",
   "execution_count": 73,
   "id": "deed7279",
   "metadata": {},
   "outputs": [
    {
     "data": {
      "text/plain": [
       "[<keras.layers.reshaping.flatten.Flatten at 0x1eb3c65e4c0>,\n",
       " <keras.layers.core.dense.Dense at 0x1eb30b6adc0>,\n",
       " <keras.layers.core.dense.Dense at 0x1eb3015a0d0>,\n",
       " <keras.layers.core.dense.Dense at 0x1eb3c50dfa0>]"
      ]
     },
     "execution_count": 73,
     "metadata": {},
     "output_type": "execute_result"
    }
   ],
   "source": [
    "SNN.layers"
   ]
  },
  {
   "cell_type": "code",
   "execution_count": 74,
   "id": "7f892e6a",
   "metadata": {},
   "outputs": [],
   "source": [
    "hidden1 = SNN.layers[1]"
   ]
  },
  {
   "cell_type": "code",
   "execution_count": 75,
   "id": "b36a1d69",
   "metadata": {},
   "outputs": [
    {
     "data": {
      "text/plain": [
       "array([[-0.04611757, -0.06435221, -0.038645  , ..., -0.0670575 ,\n",
       "        -0.00619255,  0.00169386],\n",
       "       [ 0.03821069,  0.00805482, -0.06274136, ..., -0.00540834,\n",
       "         0.00317994, -0.04102998],\n",
       "       [-0.01630075,  0.03208735,  0.02568605, ..., -0.01861504,\n",
       "         0.07323907, -0.04462168],\n",
       "       ...,\n",
       "       [ 0.02203035,  0.02548791, -0.02220719, ...,  0.0647521 ,\n",
       "        -0.01954892, -0.04048092],\n",
       "       [ 0.02678587, -0.0477226 , -0.05597279, ..., -0.00572234,\n",
       "        -0.04831314, -0.03694066],\n",
       "       [ 0.04690282, -0.0285324 , -0.0490578 , ...,  0.02647585,\n",
       "         0.01880316, -0.01797925]], dtype=float32)"
      ]
     },
     "execution_count": 75,
     "metadata": {},
     "output_type": "execute_result"
    }
   ],
   "source": [
    "weights,biases = hidden1.get_weights()\n",
    "biases\n",
    "weights"
   ]
  },
  {
   "cell_type": "code",
   "execution_count": 76,
   "id": "d0fc8fe3",
   "metadata": {},
   "outputs": [],
   "source": [
    "SNN.compile(loss=\"sparse_categorical_crossentropy\",\n",
    "              optimizer=\"sgd\",\n",
    "              metrics=[\"accuracy\"])\n"
   ]
  },
  {
   "cell_type": "code",
   "execution_count": 77,
   "id": "2bfb6919",
   "metadata": {},
   "outputs": [
    {
     "name": "stdout",
     "output_type": "stream",
     "text": [
      "Epoch 1/10\n",
      "1875/1875 [==============================] - 3s 1ms/step - loss: 0.7037 - accuracy: 0.7692\n",
      "Epoch 2/10\n",
      "1875/1875 [==============================] - 4s 2ms/step - loss: 0.4813 - accuracy: 0.8324\n",
      "Epoch 3/10\n",
      "1875/1875 [==============================] - 3s 2ms/step - loss: 0.4359 - accuracy: 0.8469\n",
      "Epoch 4/10\n",
      "1875/1875 [==============================] - 3s 2ms/step - loss: 0.4090 - accuracy: 0.8580\n",
      "Epoch 5/10\n",
      "1875/1875 [==============================] - 3s 2ms/step - loss: 0.3905 - accuracy: 0.8630\n",
      "Epoch 6/10\n",
      "1875/1875 [==============================] - 3s 2ms/step - loss: 0.3751 - accuracy: 0.8686\n",
      "Epoch 7/10\n",
      "1875/1875 [==============================] - 4s 2ms/step - loss: 0.3617 - accuracy: 0.8722\n",
      "Epoch 8/10\n",
      "1875/1875 [==============================] - 3s 2ms/step - loss: 0.3506 - accuracy: 0.8756\n",
      "Epoch 9/10\n",
      "1875/1875 [==============================] - 3s 2ms/step - loss: 0.3396 - accuracy: 0.8790\n",
      "Epoch 10/10\n",
      "1875/1875 [==============================] - 3s 2ms/step - loss: 0.3308 - accuracy: 0.8816\n"
     ]
    }
   ],
   "source": [
    "history=SNN.fit(X_train,y_train,epochs=10)"
   ]
  },
  {
   "cell_type": "code",
   "execution_count": 78,
   "id": "83ea69db",
   "metadata": {},
   "outputs": [
    {
     "name": "stdout",
     "output_type": "stream",
     "text": [
      "313/313 [==============================] - 0s 949us/step - loss: 0.3786 - accuracy: 0.8632\n"
     ]
    },
    {
     "data": {
      "text/plain": [
       "[0.37859511375427246, 0.8632000088691711]"
      ]
     },
     "execution_count": 78,
     "metadata": {},
     "output_type": "execute_result"
    }
   ],
   "source": [
    "SNN.evaluate(X_test,y_test)"
   ]
  },
  {
   "cell_type": "code",
   "execution_count": 79,
   "id": "e5f1be1b",
   "metadata": {},
   "outputs": [
    {
     "data": {
      "text/plain": [
       "<Axes: >"
      ]
     },
     "execution_count": 79,
     "metadata": {},
     "output_type": "execute_result"
    },
    {
     "data": {
      "image/png": "[encoded data removed]",
      "text/plain": [
       "<Figure size 800x500 with 1 Axes>"
      ]
     },
     "metadata": {},
     "output_type": "display_data"
    }
   ],
   "source": [
    "pd.DataFrame(history.history).plot(figsize=(8,5))"
   ]
  },
  {
   "cell_type": "code",
   "execution_count": 80,
   "id": "9e4b60c5",
   "metadata": {},
   "outputs": [
    {
     "name": "stdout",
     "output_type": "stream",
     "text": [
      "313/313 [==============================] - 0s 962us/step\n"
     ]
    }
   ],
   "source": [
    "predict_y=SNN.predict(X_test)"
   ]
  },
  {
   "cell_type": "code",
   "execution_count": 82,
   "id": "38831a97",
   "metadata": {},
   "outputs": [
    {
     "data": {
      "text/plain": [
       "array([[0.  , 0.  , 0.  , ..., 0.06, 0.  , 0.85],\n",
       "       [0.  , 0.  , 0.99, ..., 0.  , 0.  , 0.  ],\n",
       "       [0.  , 1.  , 0.  , ..., 0.  , 0.  , 0.  ],\n",
       "       ...,\n",
       "       [0.01, 0.  , 0.  , ..., 0.  , 0.98, 0.  ],\n",
       "       [0.  , 1.  , 0.  , ..., 0.  , 0.  , 0.  ],\n",
       "       [0.  , 0.  , 0.  , ..., 0.05, 0.01, 0.  ]], dtype=float32)"
      ]
     },
     "execution_count": 82,
     "metadata": {},
     "output_type": "execute_result"
    }
   ],
   "source": [
    "predict_y.round(2)"
   ]
  },
  {
   "cell_type": "code",
   "execution_count": 83,
   "id": "a52edfc0",
   "metadata": {},
   "outputs": [],
   "source": [
    "predicted_class=np.argmax(predict_y,axis=1)"
   ]
  },
  {
   "cell_type": "code",
   "execution_count": 84,
   "id": "9d5babf5",
   "metadata": {},
   "outputs": [
    {
     "data": {
      "text/plain": [
       "array([9, 2, 1, ..., 8, 1, 5], dtype=int64)"
      ]
     },
     "execution_count": 84,
     "metadata": {},
     "output_type": "execute_result"
    }
   ],
   "source": [
    "predicted_class"
   ]
  },
  {
   "cell_type": "code",
   "execution_count": 85,
   "id": "49b1e063",
   "metadata": {},
   "outputs": [
    {
     "data": {
      "text/plain": [
       "array(['ankle boot', 'pullover', 'Trouser', ..., 'bag', 'Trouser',\n",
       "       'sandal'], dtype='<U11')"
      ]
     },
     "execution_count": 85,
     "metadata": {},
     "output_type": "execute_result"
    }
   ],
   "source": [
    "np.array(class_name)[predicted_class]"
   ]
  },
  {
   "cell_type": "code",
   "execution_count": 90,
   "id": "4f07374c",
   "metadata": {},
   "outputs": [
    {
     "name": "stdout",
     "output_type": "stream",
     "text": [
      "the prediction is bag\n"
     ]
    },
    {
     "data": {
      "image/png": "[encoded data removed]",
      "text/plain": [
       "<Figure size 640x480 with 1 Axes>"
      ]
     },
     "metadata": {},
     "output_type": "display_data"
    }
   ],
   "source": [
    "item=randrange(10000)\n",
    "plt.imshow(X_test[item], cmap='gray')\n",
    "print(\"the prediction is \"+ str(class_name[predicted_class[item]]))"
   ]
  },
  {
   "cell_type": "code",
   "execution_count": 93,
   "id": "ff7b7560",
   "metadata": {},
   "outputs": [],
   "source": [
    "from sklearn import metrics\n",
    "confusion_matrix=metrics.confusion_matrix(y_test,predicted_class)"
   ]
  },
  {
   "cell_type": "code",
   "execution_count": 98,
   "id": "26020777",
   "metadata": {},
   "outputs": [
    {
     "data": {
      "text/plain": [
       "([<matplotlib.axis.YTick at 0x1eb429e4910>,\n",
       "  <matplotlib.axis.YTick at 0x1eb429e4460>,\n",
       "  <matplotlib.axis.YTick at 0x1eb429d89a0>,\n",
       "  <matplotlib.axis.YTick at 0x1eb4254d940>,\n",
       "  <matplotlib.axis.YTick at 0x1eb4254d220>,\n",
       "  <matplotlib.axis.YTick at 0x1eb4254da00>,\n",
       "  <matplotlib.axis.YTick at 0x1eb42538610>,\n",
       "  <matplotlib.axis.YTick at 0x1eb42556af0>,\n",
       "  <matplotlib.axis.YTick at 0x1eb42561310>,\n",
       "  <matplotlib.axis.YTick at 0x1eb42561af0>],\n",
       " [Text(0, 0.5, 'T-shirt/top'),\n",
       "  Text(0, 1.5, 'Trouser'),\n",
       "  Text(0, 2.5, 'pullover'),\n",
       "  Text(0, 3.5, 'dress'),\n",
       "  Text(0, 4.5, 'coat'),\n",
       "  Text(0, 5.5, 'sandal'),\n",
       "  Text(0, 6.5, 'shirt'),\n",
       "  Text(0, 7.5, 'sneaker'),\n",
       "  Text(0, 8.5, 'bag'),\n",
       "  Text(0, 9.5, 'ankle boot')])"
      ]
     },
     "execution_count": 98,
     "metadata": {},
     "output_type": "execute_result"
    },
    {
     "data": {
      "image/png": "[encoded data removed]",
      "text/plain": [
       "<Figure size 1000x1000 with 1 Axes>"
      ]
     },
     "metadata": {},
     "output_type": "display_data"
    }
   ],
   "source": [
    "import seaborn as sns\n",
    "plt.figure(figsize=(10,10))\n",
    "sns.heatmap(confusion_matrix, annot=True, fmt='d', cmap='Blues', cbar=False)\n",
    "plt.xticks(np.arange(10)+0.5,['T-shirt/top',\n",
    "              'Trouser',\n",
    "              'pullover',\n",
    "              'dress',\n",
    "             'coat',\n",
    "             'sandal',\n",
    "             'shirt',\n",
    "             'sneaker',\n",
    "             'bag',\n",
    "             'ankle boot'])\n",
    "plt.yticks(np.arange(10)+0.5,['T-shirt/top',\n",
    "              'Trouser',\n",
    "              'pullover',\n",
    "              'dress',\n",
    "             'coat',\n",
    "             'sandal',\n",
    "             'shirt',\n",
    "             'sneaker',\n",
    "             'bag',\n",
    "             'ankle boot'])"
   ]
  },
  {
   "cell_type": "code",
   "execution_count": null,
   "id": "098f3b23",
   "metadata": {},
   "outputs": [],
   "source": []
  }
 ],
 "metadata": {
  "kernelspec": {
   "display_name": "Python 3 (ipykernel)",
   "language": "python",
   "name": "python3"
  },
  "language_info": {
   "codemirror_mode": {
    "name": "ipython",
    "version": 3
   },
   "file_extension": ".py",
   "mimetype": "text/x-python",
   "name": "python",
   "nbconvert_exporter": "python",
   "pygments_lexer": "ipython3",
   "version": "3.9.16"
  }
 },
 "nbformat": 4,
 "nbformat_minor": 5
}
